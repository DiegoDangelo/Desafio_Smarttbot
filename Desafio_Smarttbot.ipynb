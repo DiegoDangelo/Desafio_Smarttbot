{
  "nbformat": 4,
  "nbformat_minor": 0,
  "metadata": {
    "colab": {
      "name": "Desafio Smarttbot.ipynb",
      "provenance": [],
      "collapsed_sections": [],
      "authorship_tag": "ABX9TyN5g7F9grl4bGhDe1Zo6nrl",
      "include_colab_link": true
    },
    "kernelspec": {
      "name": "python3",
      "display_name": "Python 3"
    },
    "language_info": {
      "name": "python"
    }
  },
  "cells": [
    {
      "cell_type": "markdown",
      "metadata": {
        "id": "view-in-github",
        "colab_type": "text"
      },
      "source": [
        "<a href=\"https://colab.research.google.com/github/DiegoDangelo/Desafio_Smattbot/blob/main/Desafio_Smarttbot.ipynb\" target=\"_parent\"><img src=\"https://colab.research.google.com/assets/colab-badge.svg\" alt=\"Open In Colab\"/></a>"
      ]
    },
    {
      "cell_type": "markdown",
      "source": [
        "# Configurações Iniciais"
      ],
      "metadata": {
        "id": "6LrDsctmoblM"
      }
    },
    {
      "cell_type": "markdown",
      "source": [
        "Visando uma mais escalabilidade, será usada spark e pyspark, visto que estes"
      ],
      "metadata": {
        "id": "_2BVD9fGonX6"
      }
    },
    {
      "cell_type": "code",
      "source": [
        "#instalar java, spark e finspark\n",
        "!apt-get install openjdk-8-jdk-headless -qq > /dev/null\n",
        "!wget -q https://archive.apache.org/dist/spark/spark-3.2.0/spark-3.2.0-bin-hadoop2.7.tgz\n",
        "!tar xf spark-3.2.0-bin-hadoop2.7.tgz\n",
        "!pip install -q findspark\n",
        "\n",
        "#definir diretórios\n",
        "import os\n",
        "os.environ[\"JAVA_HOME\"] = \"/usr/lib/jvm/java-8-openjdk-amd64\"\n",
        "os.environ[\"SPARK_HOME\"] = \"/content/spark-3.2.0-bin-hadoop2.7\"\n",
        "\n",
        "#importar finspark\n",
        "import findspark\n",
        "findspark.init()"
      ],
      "metadata": {
        "id": "MYfRnghioGNJ"
      },
      "execution_count": null,
      "outputs": []
    },
    {
      "cell_type": "markdown",
      "source": [
        "Inicializar instancia spark"
      ],
      "metadata": {
        "id": "jdfwruj2UKrS"
      }
    },
    {
      "cell_type": "code",
      "source": [
        "from pyspark.sql import SparkSession\n",
        "spark = SparkSession.builder.master('local[*]').getOrCreate()"
      ],
      "metadata": {
        "id": "lusw3bm2UIw4"
      },
      "execution_count": null,
      "outputs": []
    },
    {
      "cell_type": "markdown",
      "source": [
        "Importar arquivos csv"
      ],
      "metadata": {
        "id": "_JAOENKWitZ5"
      }
    },
    {
      "cell_type": "code",
      "source": [
        "person = spark.read.csv('data/Person.Person.csv', sep = ';', header = True)\n",
        "person.createOrReplaceTempView('Person_Person')\n",
        "\n",
        "product = spark.read.csv('data/Production.Product.csv', sep = ';', header = True)\n",
        "product.createOrReplaceTempView('Production_Product')\n",
        "\n",
        "customer = spark.read.csv('data/Sales.Customer.csv', sep = ';', header = True)\n",
        "customer.createOrReplaceTempView('Sales_Customer')\n",
        "\n",
        "order_detail = spark.read.csv('data/Sales.SalesOrderDetail.csv', sep = ';', header = True)\n",
        "order_detail.createOrReplaceTempView('Sales_SalesOrderDetail')\n",
        "\n",
        "order_header = spark.read.csv('data/Sales.SalesOrderHeader.csv', sep = ';', header = True)\n",
        "order_header.createOrReplaceTempView('Sales_SalesOrderHeader')\n",
        "\n",
        "offer_product = spark.read.csv('data/Sales.SpecialOfferProduct.csv', sep = ';', header = True)\n",
        "offer_product.createOrReplaceTempView('Sales_SpecialOfferProduct')\n"
      ],
      "metadata": {
        "id": "9Ep6Mam1iyAA"
      },
      "execution_count": null,
      "outputs": []
    },
    {
      "cell_type": "markdown",
      "source": [
        "# Análise exploratória dos dados"
      ],
      "metadata": {
        "id": "j1CqT1U2BQ8v"
      }
    },
    {
      "cell_type": "code",
      "source": [
        "#Observar estrutura (top 5)\n",
        "\n",
        "person.show(5)\n",
        "product.show(5)\n",
        "customer.show(5)\n",
        "order_detail.show(5)\n",
        "order_header.show(5)\n",
        "offer_product.show(5)"
      ],
      "metadata": {
        "colab": {
          "base_uri": "https://localhost:8080/"
        },
        "id": "tOIJybLGBgQD",
        "outputId": "52fcf72c-d073-4bb3-f962-c5357cf68bd8"
      },
      "execution_count": null,
      "outputs": [
        {
          "output_type": "stream",
          "name": "stdout",
          "text": [
            "+----------------+----------+---------+-----+---------+----------+----------+------+--------------+---------------------+--------------------+--------------------+--------------------+\n",
            "|BusinessEntityID|PersonType|NameStyle|Title|FirstName|MiddleName|  LastName|Suffix|EmailPromotion|AdditionalContactInfo|        Demographics|             rowguid|        ModifiedDate|\n",
            "+----------------+----------+---------+-----+---------+----------+----------+------+--------------+---------------------+--------------------+--------------------+--------------------+\n",
            "|               1|        EM|        0| NULL|      Ken|         J|   Sánchez|  NULL|             0|                 NULL|\"<IndividualSurve...|92C4279F-1207-48A...|2009-01-07 00:00:...|\n",
            "|               2|        EM|        0| NULL|    Terri|       Lee|     Duffy|  NULL|             1|                 NULL|\"<IndividualSurve...|D8763459-8AA8-47C...|2008-01-24 00:00:...|\n",
            "|               3|        EM|        0| NULL|  Roberto|      NULL|Tamburello|  NULL|             0|                 NULL|\"<IndividualSurve...|E1A2555E-0828-434...|2007-11-04 00:00:...|\n",
            "|               4|        EM|        0| NULL|      Rob|      NULL|   Walters|  NULL|             0|                 NULL|\"<IndividualSurve...|F2D7CE06-38B3-435...|2007-11-28 00:00:...|\n",
            "|               5|        EM|        0|  Ms.|     Gail|         A|  Erickson|  NULL|             0|                 NULL|\"<IndividualSurve...|F3A3F6B4-AE3B-430...|2007-12-30 00:00:...|\n",
            "+----------------+----------+---------+-----+---------+----------+----------+------+--------------+---------------------+--------------------+--------------------+--------------------+\n",
            "only showing top 5 rows\n",
            "\n",
            "+---------+--------------------+-------------+--------+-----------------+-----+----------------+------------+------------+---------+----+-------------------+---------------------+------+-----------------+-----------+-----+-----+--------------------+--------------+--------------------+-----------+----------------+--------------------+--------------------+\n",
            "|ProductID|                Name|ProductNumber|MakeFlag|FinishedGoodsFlag|Color|SafetyStockLevel|ReorderPoint|StandardCost|ListPrice|Size|SizeUnitMeasureCode|WeightUnitMeasureCode|Weight|DaysToManufacture|ProductLine|Class|Style|ProductSubcategoryID|ProductModelID|       SellStartDate|SellEndDate|DiscontinuedDate|             rowguid|        ModifiedDate|\n",
            "+---------+--------------------+-------------+--------+-----------------+-----+----------------+------------+------------+---------+----+-------------------+---------------------+------+-----------------+-----------+-----+-----+--------------------+--------------+--------------------+-----------+----------------+--------------------+--------------------+\n",
            "|        1|     Adjustable Race|      AR-5381|       0|                0| NULL|            1000|         750|        0,00|     0,00|NULL|               NULL|                 NULL|  NULL|                0|       NULL| NULL| NULL|                NULL|          NULL|2008-04-30 00:00:...|       NULL|            NULL|694215B7-08F7-4C0...|2014-02-08 10:01:...|\n",
            "|        2|        Bearing Ball|      BA-8327|       0|                0| NULL|            1000|         750|        0,00|     0,00|NULL|               NULL|                 NULL|  NULL|                0|       NULL| NULL| NULL|                NULL|          NULL|2008-04-30 00:00:...|       NULL|            NULL|58AE3C20-4F3A-474...|2014-02-08 10:01:...|\n",
            "|        3|     BB Ball Bearing|      BE-2349|       1|                0| NULL|             800|         600|        0,00|     0,00|NULL|               NULL|                 NULL|  NULL|                1|       NULL| NULL| NULL|                NULL|          NULL|2008-04-30 00:00:...|       NULL|            NULL|9C21AED2-5BFA-4F1...|2014-02-08 10:01:...|\n",
            "|        4|Headset Ball Bear...|      BE-2908|       0|                0| NULL|             800|         600|        0,00|     0,00|NULL|               NULL|                 NULL|  NULL|                0|       NULL| NULL| NULL|                NULL|          NULL|2008-04-30 00:00:...|       NULL|            NULL|ECFED6CB-51FF-49B...|2014-02-08 10:01:...|\n",
            "|      316|               Blade|      BL-2036|       1|                0| NULL|             800|         600|        0,00|     0,00|NULL|               NULL|                 NULL|  NULL|                1|       NULL| NULL| NULL|                NULL|          NULL|2008-04-30 00:00:...|       NULL|            NULL|E73E9750-603B-413...|2014-02-08 10:01:...|\n",
            "+---------+--------------------+-------------+--------+-----------------+-----+----------------+------------+------------+---------+----+-------------------+---------------------+------+-----------------+-----------+-----+-----+--------------------+--------------+--------------------+-----------+----------------+--------------------+--------------------+\n",
            "only showing top 5 rows\n",
            "\n",
            "+----------+--------+-------+-----------+-------------+--------------------+--------------------+\n",
            "|CustomerID|PersonID|StoreID|TerritoryID|AccountNumber|             rowguid|        ModifiedDate|\n",
            "+----------+--------+-------+-----------+-------------+--------------------+--------------------+\n",
            "|         1|    NULL|    934|          1|   AW00000001|3F5AE95E-B87D-4AE...|2014-09-12 11:15:...|\n",
            "|         2|    NULL|   1028|          1|   AW00000002|E552F657-A9AF-4A7...|2014-09-12 11:15:...|\n",
            "|         3|    NULL|    642|          4|   AW00000003|130774B1-DB21-4EF...|2014-09-12 11:15:...|\n",
            "|         4|    NULL|    932|          4|   AW00000004|FF862851-1DAA-404...|2014-09-12 11:15:...|\n",
            "|         5|    NULL|   1026|          4|   AW00000005|83905BDC-6F5E-4F7...|2014-09-12 11:15:...|\n",
            "+----------+--------+-------+-----------+-------------+--------------------+--------------------+\n",
            "only showing top 5 rows\n",
            "\n",
            "+------------+------------------+---------------------+--------+---------+--------------+---------+-----------------+-----------+--------------------+--------------------+\n",
            "|SalesOrderID|SalesOrderDetailID|CarrierTrackingNumber|OrderQty|ProductID|SpecialOfferID|UnitPrice|UnitPriceDiscount|  LineTotal|             rowguid|        ModifiedDate|\n",
            "+------------+------------------+---------------------+--------+---------+--------------+---------+-----------------+-----------+--------------------+--------------------+\n",
            "|       43659|                 1|         4911-403C-98|       1|      776|             1| 2024,994|             0,00|2024.994000|B207C96D-D9E6-402...|2011-05-31 00:00:...|\n",
            "|       43659|                 2|         4911-403C-98|       3|      777|             1| 2024,994|             0,00|6074.982000|7ABB600D-1E77-41B...|2011-05-31 00:00:...|\n",
            "|       43659|                 3|         4911-403C-98|       1|      778|             1| 2024,994|             0,00|2024.994000|475CF8C6-49F6-486...|2011-05-31 00:00:...|\n",
            "|       43659|                 4|         4911-403C-98|       1|      771|             1| 2039,994|             0,00|2039.994000|04C4DE91-5815-45D...|2011-05-31 00:00:...|\n",
            "|       43659|                 5|         4911-403C-98|       1|      772|             1| 2039,994|             0,00|2039.994000|5A74C7D2-E641-438...|2011-05-31 00:00:...|\n",
            "+------------+------------------+---------------------+--------+---------+--------------+---------+-----------------+-----------+--------------------+--------------------+\n",
            "only showing top 5 rows\n",
            "\n",
            "+------------+--------------+--------------------+--------------------+--------------------+------+---------------+----------------+-------------------+--------------+----------+-------------+-----------+---------------+---------------+------------+------------+----------------------+--------------+----------+---------+--------+----------+-------+--------------------+--------------------+\n",
            "|SalesOrderID|RevisionNumber|           OrderDate|             DueDate|            ShipDate|Status|OnlineOrderFlag|SalesOrderNumber|PurchaseOrderNumber| AccountNumber|CustomerID|SalesPersonID|TerritoryID|BillToAddressID|ShipToAddressID|ShipMethodID|CreditCardID|CreditCardApprovalCode|CurrencyRateID|  SubTotal|   TaxAmt| Freight|  TotalDue|Comment|             rowguid|        ModifiedDate|\n",
            "+------------+--------------+--------------------+--------------------+--------------------+------+---------------+----------------+-------------------+--------------+----------+-------------+-----------+---------------+---------------+------------+------------+----------------------+--------------+----------+---------+--------+----------+-------+--------------------+--------------------+\n",
            "|       43659|             8|2011-05-31 00:00:...|2011-06-12 00:00:...|2011-06-07 00:00:...|     5|              0|         SO43659|        PO522145787|10-4020-000676|     29825|          279|          5|            985|            985|           5|       16281|         105041Vi84182|          NULL|20565,6206|1971,5149|616,0984|23153,2339|   NULL|79B65321-39CA-411...|2011-06-07 00:00:...|\n",
            "|       43660|             8|2011-05-31 00:00:...|2011-06-12 00:00:...|2011-06-07 00:00:...|     5|              0|         SO43660|      PO18850127500|10-4020-000117|     29672|          279|          5|            921|            921|           5|        5618|         115213Vi29411|          NULL| 1294,2529| 124,2483| 38,8276| 1457,3288|   NULL|738DC42D-D03B-48A...|2011-06-07 00:00:...|\n",
            "|       43661|             8|2011-05-31 00:00:...|2011-06-12 00:00:...|2011-06-07 00:00:...|     5|              0|         SO43661|      PO18473189620|10-4020-000442|     29734|          282|          6|            517|            517|           5|        1346|           85274Vi6854|             4|32726,4786|3153,7696| 985,553|36865,8012|   NULL|D91B9131-18A4-4A1...|2011-06-07 00:00:...|\n",
            "|       43662|             8|2011-05-31 00:00:...|2011-06-12 00:00:...|2011-06-07 00:00:...|     5|              0|         SO43662|      PO18444174044|10-4020-000227|     29994|          282|          6|            482|            482|           5|       10456|         125295Vi53935|             4|28832,5289|2775,1646|867,2389|32474,9324|   NULL|4A1ECFC0-CC3A-474...|2011-06-07 00:00:...|\n",
            "|       43663|             8|2011-05-31 00:00:...|2011-06-12 00:00:...|2011-06-07 00:00:...|     5|              0|         SO43663|      PO18009186470|10-4020-000510|     29565|          276|          4|           1073|           1073|           5|        4322|          45303Vi22691|          NULL|  419,4589|  40,2681| 12,5838|  472,3108|   NULL|9B1E7A40-6AE0-4AD...|2011-06-07 00:00:...|\n",
            "+------------+--------------+--------------------+--------------------+--------------------+------+---------------+----------------+-------------------+--------------+----------+-------------+-----------+---------------+---------------+------------+------------+----------------------+--------------+----------+---------+--------+----------+-------+--------------------+--------------------+\n",
            "only showing top 5 rows\n",
            "\n",
            "+--------------+---------+--------------------+--------------------+\n",
            "|SpecialOfferID|ProductID|             rowguid|        ModifiedDate|\n",
            "+--------------+---------+--------------------+--------------------+\n",
            "|             1|      680|BB30B868-D86C-455...|2011-04-01 00:00:...|\n",
            "|             1|      706|B3C9A4B1-2AE6-4CB...|2011-04-01 00:00:...|\n",
            "|             1|      707|27B711FE-0B77-4EA...|2011-04-01 00:00:...|\n",
            "|             1|      708|46CBB78B-246E-4D6...|2011-04-01 00:00:...|\n",
            "|             1|      709|CF102AA0-055F-4D2...|2011-04-01 00:00:...|\n",
            "+--------------+---------+--------------------+--------------------+\n",
            "only showing top 5 rows\n",
            "\n"
          ]
        }
      ]
    },
    {
      "cell_type": "code",
      "source": [
        "#Resumo dos dados\n",
        "person.summary().show()\n",
        "product.summary().show()\n",
        "customer.summary().show()\n",
        "order_detail.summary().show()\n",
        "order_header.summary().show()\n",
        "offer_product.summary().show()"
      ],
      "metadata": {
        "colab": {
          "base_uri": "https://localhost:8080/"
        },
        "id": "aPas5rEFBl-0",
        "outputId": "c0b710ba-a466-4ae5-f975-62db4daa1765"
      },
      "execution_count": null,
      "outputs": [
        {
          "output_type": "stream",
          "name": "stdout",
          "text": [
            "+-------+-----------------+----------+---------+-----+---------+----------+--------+------+------------------+---------------------+--------------------+--------------------+--------------------+\n",
            "|summary| BusinessEntityID|PersonType|NameStyle|Title|FirstName|MiddleName|LastName|Suffix|    EmailPromotion|AdditionalContactInfo|        Demographics|             rowguid|        ModifiedDate|\n",
            "+-------+-----------------+----------+---------+-----+---------+----------+--------+------+------------------+---------------------+--------------------+--------------------+--------------------+\n",
            "|  count|            17021|     17021|    17021|17021|    17021|     17021|   17021| 17021|             17021|                17021|               17021|               17021|               17021|\n",
            "|   mean|9282.652018095294|      null|      0.0| null|     null|      null|    null|  null|0.6312202573291816|                 null|                null|                null|                null|\n",
            "| stddev|4970.476699209613|      null|      0.0| null|     null|      null|    null|  null|0.7828271985265668|                 null|                null|                null|                null|\n",
            "|    min|                1|        EM|        0|  Mr.|       A.|         A|   Abbas|    II|                 0| \"<AdditionalConta...|\"<IndividualSurve...|000191EF-7424-4A5...|2006-06-23 00:00:...|\n",
            "|    25%|           5060.0|      null|      0.0| null|     null|      null|    null|  null|               0.0|                 null|                null|                null|                null|\n",
            "|    50%|           9316.0|      null|      0.0| null|     null|      null|    null|  null|               0.0|                 null|                null|                null|                null|\n",
            "|    75%|          13572.0|      null|      0.0| null|     null|      null|    null|  null|               1.0|                 null|                null|                null|                null|\n",
            "|    max|             9999|        VC|        0| Sra.|      Zoe|         l|Zwilling|   Sr.|                 2|                 NULL|\"<IndividualSurve...|FFFF4F5E-57D3-472...|2015-04-15 16:33:...|\n",
            "+-------+-----------------+----------+---------+-----+---------+----------+--------+------+------------------+---------------------+--------------------+--------------------+--------------------+\n",
            "\n",
            "+-------+------------------+-----------------+-------------+------------------+-------------------+------+-----------------+------------------+------------+---------+------------------+-------------------+---------------------+------------------+------------------+-----------+-----+-----+--------------------+-----------------+--------------------+--------------------+----------------+--------------------+--------------------+\n",
            "|summary|         ProductID|             Name|ProductNumber|          MakeFlag|  FinishedGoodsFlag| Color| SafetyStockLevel|      ReorderPoint|StandardCost|ListPrice|              Size|SizeUnitMeasureCode|WeightUnitMeasureCode|            Weight| DaysToManufacture|ProductLine|Class|Style|ProductSubcategoryID|   ProductModelID|       SellStartDate|         SellEndDate|DiscontinuedDate|             rowguid|        ModifiedDate|\n",
            "+-------+------------------+-----------------+-------------+------------------+-------------------+------+-----------------+------------------+------------+---------+------------------+-------------------+---------------------+------------------+------------------+-----------+-----+-----+--------------------+-----------------+--------------------+--------------------+----------------+--------------------+--------------------+\n",
            "|  count|               504|              504|          504|               504|                504|   504|              504|               504|         504|      504|               504|                504|                  504|               504|               504|        504|  504|  504|                 504|              504|                 504|                 504|             504|                 504|                 504|\n",
            "|   mean| 673.0396825396825|             null|         null|0.4742063492063492| 0.5853174603174603|  null|535.1507936507936|401.36309523809524|        null|     null|48.983050847457626|               null|                 null| 74.06921951219512|1.1031746031746033|       null| null| null|  12.294915254237289|37.44406779661017|                null|                null|            null|                null|                null|\n",
            "| stddev|229.37314180957824|             null|         null|0.4998303540029047|0.49315664605418624|  null|374.1129536209128| 280.5847152156847|        null|     null| 7.249196331844457|               null|                 null|182.16658823718498|1.4926159675916595|       null| null| null|   9.860134530977973|34.02544201748429|                null|                null|            null|                null|                null|\n",
            "|    min|                 1|     AWC Logo Cap|      AR-5381|                 0|                  0| Black|              100|                 3|        0,00|     0,00|                38|                CM |                  G  |           1000.00|                 0|         M |   H |   M |                   1|                1|2008-04-30 00:00:...|2012-05-29 00:00:...|            NULL|01A8C3FC-ED52-458...|2014-02-08 10:01:...|\n",
            "|    25%|             447.0|             null|         null|               0.0|                0.0|  null|            100.0|              75.0|        null|     null|              44.0|               null|                 null|              2.88|               0.0|       null| null| null|                 2.0|             11.0|                null|                null|            null|                null|                null|\n",
            "|    50%|             747.0|             null|         null|               0.0|                1.0|  null|            500.0|             375.0|        null|     null|              48.0|               null|                 null|              17.9|               1.0|       null| null| null|                12.0|             26.0|                null|                null|            null|                null|                null|\n",
            "|    75%|             873.0|             null|         null|               1.0|                1.0|  null|           1000.0|             750.0|        null|     null|              54.0|               null|                 null|             27.35|               1.0|       null| null| null|                17.0|             49.0|                null|                null|            null|                null|                null|\n",
            "|    max|               999|Women's Tights, S|      WB-H098|                 1|                  1|Yellow|              800|               750|       98,77|    91,57|                XL|               NULL|                 NULL|              NULL|                 4|         T | NULL|   W |                NULL|             NULL|2013-05-30 00:00:...|                NULL|            NULL|FE0678ED-AEF2-4C5...|2014-02-08 10:03:...|\n",
            "+-------+------------------+-----------------+-------------+------------------+-------------------+------+-----------------+------------------+------------+---------+------------------+-------------------+---------------------+------------------+------------------+-----------+-----+-----+--------------------+-----------------+--------------------+--------------------+----------------+--------------------+--------------------+\n",
            "\n",
            "+-------+------------------+-----------------+------------------+------------------+-------------+--------------------+--------------------+\n",
            "|summary|        CustomerID|         PersonID|           StoreID|       TerritoryID|AccountNumber|             rowguid|        ModifiedDate|\n",
            "+-------+------------------+-----------------+------------------+------------------+-------------+--------------------+--------------------+\n",
            "|  count|             19820|            19820|             19820|             19820|        19820|               19820|               19820|\n",
            "|   mean|  19844.2770938446|11184.19022961452|1037.6549401197606|  5.82497477295661|         null|                null|                null|\n",
            "| stddev|6581.7859142707575| 5578.70597685964| 475.9147548439723|3.0426757383909195|         null|                null|                null|\n",
            "|    min|                 1|            10000|              1000|                 1|   AW00000001|0006E071-D04E-426...|2014-09-12 11:15:...|\n",
            "|    25%|           15252.0|           6438.0|             648.0|               4.0|         null|                null|                null|\n",
            "|    50%|           20207.0|          11217.0|             992.0|               6.0|         null|                null|                null|\n",
            "|    75%|           25161.0|          15996.0|            1342.0|               9.0|         null|                null|                null|\n",
            "|    max|                99|             NULL|              NULL|                 9|   AW00030118|FFFFF252-5BFC-482...|2014-09-12 11:15:...|\n",
            "+-------+------------------+-----------------+------------------+------------------+-------------+--------------------+--------------------+\n",
            "\n",
            "+-------+------------------+------------------+---------------------+------------------+-----------------+------------------+---------+-----------------+-----------------+--------------------+--------------------+\n",
            "|summary|      SalesOrderID|SalesOrderDetailID|CarrierTrackingNumber|          OrderQty|        ProductID|    SpecialOfferID|UnitPrice|UnitPriceDiscount|        LineTotal|             rowguid|        ModifiedDate|\n",
            "+-------+------------------+------------------+---------------------+------------------+-----------------+------------------+---------+-----------------+-----------------+--------------------+--------------------+\n",
            "|  count|            121317|            121317|               121317|            121317|           121317|            121317|   121317|           121317|           121317|              121317|              121317|\n",
            "|   mean|57827.363782487206|           60659.0|                 null|2.2660797744751355|841.6808361565156|1.1625411113034447|     null|             null|905.4492066224303|                null|                null|\n",
            "| stddev| 9009.147901593558|35021.345640908774|                 null|  2.49132317472756|86.45212373776558|1.2186043802028799|     null|             null|1693.417388970924|                null|                null|\n",
            "|    min|             43659|                 1|         000A-434D-BC|                 1|              707|                 1|   1,3282|             0,00|         1.374000|0000C99C-2B71-488...|2011-05-31 00:00:...|\n",
            "|    25%|           49884.0|           30334.0|                 null|               1.0|            768.0|               1.0|     null|             null|            24.99|                null|                null|\n",
            "|    50%|           57029.0|           60658.0|                 null|               1.0|            863.0|               1.0|     null|             null|          134.982|                null|                null|\n",
            "|    75%|           65485.0|           90979.0|                 null|               3.0|            921.0|               1.0|     null|             null|          1120.49|                null|                null|\n",
            "|    max|             75123|             99999|                 NULL|                 9|              999|                 9| 986,5742|             0,40|      9944.658192|FFFF365B-8BAC-4A2...|2014-06-30 00:00:...|\n",
            "+-------+------------------+------------------+---------------------+------------------+-----------------+------------------+---------+-----------------+-----------------+--------------------+--------------------+\n",
            "\n",
            "+-------+-----------------+-------------------+--------------------+--------------------+--------------------+------+-------------------+----------------+-------------------+--------------+-----------------+-----------------+-----------------+------------------+------------------+------------------+-----------------+----------------------+-----------------+----------+---------+-------+---------+-------+--------------------+--------------------+\n",
            "|summary|     SalesOrderID|     RevisionNumber|           OrderDate|             DueDate|            ShipDate|Status|    OnlineOrderFlag|SalesOrderNumber|PurchaseOrderNumber| AccountNumber|       CustomerID|    SalesPersonID|      TerritoryID|   BillToAddressID|   ShipToAddressID|      ShipMethodID|     CreditCardID|CreditCardApprovalCode|   CurrencyRateID|  SubTotal|   TaxAmt|Freight| TotalDue|Comment|             rowguid|        ModifiedDate|\n",
            "+-------+-----------------+-------------------+--------------------+--------------------+--------------------+------+-------------------+----------------+-------------------+--------------+-----------------+-----------------+-----------------+------------------+------------------+------------------+-----------------+----------------------+-----------------+----------+---------+-------+---------+-------+--------------------+--------------------+\n",
            "|  count|            31465|              31465|               31465|               31465|               31465| 31465|              31465|           31465|              31465|         31465|            31465|            31465|            31465|             31465|             31465|             31465|            31465|                 31465|            31465|     31465|    31465|  31465|    31465|  31465|               31465|               31465|\n",
            "|   mean|          59391.0|  8.000953440330527|                null|                null|                null|   5.0| 0.8790402034006038|            null|               null|          null|20170.17568727157|280.6079873883342|6.090767519466073|18263.154425552202|18249.192563165423|1.4838391863975846|9684.100448341795|                  null|9191.499570692617|      null|     null|   null|     null|   null|                null|                null|\n",
            "| stddev|9083.307446446295|0.03086359596270263|                null|                null|                null|   0.0|0.32608573040976807|            null|               null|          null|6261.728960399545| 4.84696464571845|2.958119226920885| 8210.069157791939| 8218.429262817577|1.3043429216390754|5566.299591312078|                  null|2945.170095382149|      null|     null|   null|     null|   null|                null|                null|\n",
            "|    min|            43659|                  8|2011-05-31 00:00:...|2011-06-12 00:00:...|2011-06-07 00:00:...|     5|                  0|         SO43659|               NULL|10-4020-000001|            11000|              274|                1|              1000|              1000|                 1|                1|        1016006Vi91301|            10000|     1,374|   0,1099| 0,0344|   1,5183|   NULL|0000DE87-AB3F-492...|2011-06-07 00:00:...|\n",
            "|    25%|          51524.0|                8.0|                null|                null|                null|   5.0|                1.0|            null|               null|          null|          14432.0|            277.0|              4.0|           14079.0|           14062.0|               1.0|           4894.0|                  null|           8510.0|      null|     null|   null|     null|   null|                null|                null|\n",
            "|    50%|          59390.0|                8.0|                null|                null|                null|   5.0|                1.0|            null|               null|          null|          19450.0|            279.0|              6.0|           19448.0|           19436.0|               1.0|           9718.0|                  null|          10074.0|      null|     null|   null|     null|   null|                null|                null|\n",
            "|    75%|          67254.0|                8.0|                null|                null|                null|   5.0|                1.0|            null|               null|          null|          25992.0|            284.0|              9.0|           24678.0|           24670.0|               1.0|          14508.0|                  null|          11282.0|      null|     null|   null|     null|   null|                null|                null|\n",
            "|    max|            75123|                  9|2014-06-30 00:00:...|2014-07-12 00:00:...|2014-07-07 00:00:...|     5|                  1|         SO75123|       PO9976195169|10-4030-029483|            30118|             NULL|                9|               999|               999|                 5|             NULL|                  NULL|             NULL|99514,5024|9979,0212|995,912|99952,438|   NULL|FFFE293D-6CC6-445...|2014-07-07 00:00:...|\n",
            "+-------+-----------------+-------------------+--------------------+--------------------+--------------------+------+-------------------+----------------+-------------------+--------------+-----------------+-----------------+-----------------+------------------+------------------+------------------+-----------------+----------------------+-----------------+----------+---------+-------+---------+-------+--------------------+--------------------+\n",
            "\n",
            "+-------+------------------+-----------------+--------------------+--------------------+\n",
            "|summary|    SpecialOfferID|        ProductID|             rowguid|        ModifiedDate|\n",
            "+-------+------------------+-----------------+--------------------+--------------------+\n",
            "|  count|               538|              538|                 538|                 538|\n",
            "|   mean|2.7118959107806693|849.4702602230483|                null|                null|\n",
            "| stddev| 3.478142408113732|86.58989606682316|                null|                null|\n",
            "|    min|                 1|              680|0020931C-087C-42F...|2011-04-01 00:00:...|\n",
            "|    25%|               1.0|            775.0|                null|                null|\n",
            "|    50%|               1.0|            855.0|                null|                null|\n",
            "|    75%|               2.0|            928.0|                null|                null|\n",
            "|    max|                 9|              999|FFE24AE4-9E46-433...|2014-03-01 00:00:...|\n",
            "+-------+------------------+-----------------+--------------------+--------------------+\n",
            "\n"
          ]
        }
      ]
    },
    {
      "cell_type": "markdown",
      "source": [
        "# Análise dos dados"
      ],
      "metadata": {
        "id": "XSveS_IYBV_B"
      }
    },
    {
      "cell_type": "markdown",
      "source": [
        "Escreva uma query que retorna a quantidade de linhas na tabela Sales.SalesOrderDetail pelo campo SalesOrderID, desde que tenham pelo menos três linhas de detalhes"
      ],
      "metadata": {
        "id": "R_zfenB1i_ff"
      }
    },
    {
      "cell_type": "code",
      "source": [
        "spark.sql(\"\"\" \n",
        "\n",
        "SELECT COUNT(DISTINCT t.SalesOrderID)\n",
        "FROM \n",
        "(\n",
        "  SELECT COUNT(SalesOrderID) OVER(PARTITION BY SalesOrderID) as count,SalesOrderID\n",
        "  FROM Sales_SalesOrderDetail\n",
        ") as t\n",
        "where t.count >= 3 \n",
        "\n",
        "\"\"\").show()"
      ],
      "metadata": {
        "colab": {
          "base_uri": "https://localhost:8080/"
        },
        "id": "jPqInBwljGtY",
        "outputId": "37d54f27-3d0e-4818-9382-4995c69723d0"
      },
      "execution_count": null,
      "outputs": [
        {
          "output_type": "stream",
          "name": "stdout",
          "text": [
            "+----------------------------+\n",
            "|count(DISTINCT SalesOrderID)|\n",
            "+----------------------------+\n",
            "|                       12757|\n",
            "+----------------------------+\n",
            "\n"
          ]
        }
      ]
    },
    {
      "cell_type": "markdown",
      "source": [
        "Escreva uma query que ligue as tabelas Sales.SalesOrderDetail, Sales.SpecialOfferProduct e Production.Product e retorne os 3 produtos (Name) mais vendidos (pela soma de OrderQty), agrupados pelo número de dias para manufatura (DaysToManufacture).\n"
      ],
      "metadata": {
        "id": "WWGbgxXCl7oT"
      }
    },
    {
      "cell_type": "code",
      "source": [
        "spark.sql(\"\"\" \n",
        "\n",
        "SELECT DaysToManufacture, Name, nu_orders\n",
        "FROM(\n",
        "SELECT *,\n",
        "  ROW_NUMBER() OVER(PARTITION BY b4.DaysToManufacture ORDER BY nu_orders DESC) as posicao\n",
        "FROM \n",
        "  (SELECT SUM(b1.OrderQty) as nu_orders, b2.ProductID\n",
        "    FROM Sales_SalesOrderDetail as b1\n",
        "    JOIN Sales_SpecialOfferProduct as b2 ON b1.SpecialOfferID = b2.SpecialOfferID\n",
        "    GROUP BY b2.ProductID\n",
        "  ) b3\n",
        "JOIN Production_Product AS b4 ON b3.ProductID = b4.ProductID\n",
        ")\n",
        "WHERE posicao <= 3\n",
        "\n",
        "\"\"\").show()"
      ],
      "metadata": {
        "colab": {
          "base_uri": "https://localhost:8080/"
        },
        "id": "fav3KRa2o7jX",
        "outputId": "4969ece3-0f31-4564-d4ca-ca41676ab6cc"
      },
      "execution_count": null,
      "outputs": [
        {
          "output_type": "stream",
          "name": "stdout",
          "text": [
            "+-----------------+--------------------+---------+\n",
            "|DaysToManufacture|                Name|nu_orders|\n",
            "+-----------------+--------------------+---------+\n",
            "|                0|Full-Finger Glove...| 270244.0|\n",
            "|                0|Women's Mountain ...| 270244.0|\n",
            "|                0|Water Bottle - 30...| 270159.0|\n",
            "|                1|LL Mountain Handl...| 267838.0|\n",
            "|                1|HL Touring Frame ...| 267838.0|\n",
            "|                1|ML Mountain Rear ...| 267838.0|\n",
            "|                2|LL Mountain Frame...| 257125.0|\n",
            "|                2|HL Mountain Frame...| 257125.0|\n",
            "|                2|HL Mountain Frame...| 238944.0|\n",
            "|                4|Road-350-W Yellow...| 270159.0|\n",
            "|                4|Touring-3000 Blue...| 269419.0|\n",
            "|                4|Touring-1000 Yell...| 268613.0|\n",
            "+-----------------+--------------------+---------+\n",
            "\n"
          ]
        }
      ]
    },
    {
      "cell_type": "markdown",
      "source": [
        "Escreva uma query ligando as tabelas Person.Person, Sales.Customer e \n",
        "Sales.SalesOrderHeader de forma a obter uma lista de nomes de clientes e uma contagem de pedidos efetuados."
      ],
      "metadata": {
        "id": "dXlDnxPq5AX0"
      }
    },
    {
      "cell_type": "code",
      "source": [
        "spark.sql(\"\"\" \n",
        "\n",
        "SELECT DISTINCT b2.CustomerID, \n",
        "       CONCAT(b3.FirstName, ' ', b3.LastName) as name, \n",
        "       COUNT(*) OVER(PARTITION BY b2.PersonID)  AS qtd \n",
        "FROM Sales_SalesOrderHeader as b1\n",
        "INNER JOIN\tSales_Customer as b2 ON b1.CustomerID = b2.CustomerID\n",
        "INNER JOIN Person_Person as b3 ON b2.PersonID = b3.BusinessEntityID \n",
        "ORDER BY qtd DESC\n",
        "\n",
        "\"\"\").show()"
      ],
      "metadata": {
        "colab": {
          "base_uri": "https://localhost:8080/"
        },
        "id": "JI7S_ybk5DjZ",
        "outputId": "4c37ca25-ea59-48cd-c427-deaaa98ac09a"
      },
      "execution_count": null,
      "outputs": [
        {
          "output_type": "stream",
          "name": "stdout",
          "text": [
            "+----------+-----------------+---+\n",
            "|CustomerID|             name|qtd|\n",
            "+----------+-----------------+---+\n",
            "|     11176|    Mason Roberts| 28|\n",
            "|     11091|     Dalton Perez| 28|\n",
            "|     11331| Samantha Jenkins| 27|\n",
            "|     11277|  Charles Jackson| 27|\n",
            "|     11185| Ashley Henderson| 27|\n",
            "|     11200|    Jason Griffin| 27|\n",
            "|     11300|  Fernando Barnes| 27|\n",
            "|     11223| Hailey Patterson| 27|\n",
            "|     11276|    Nancy Chapman| 27|\n",
            "|     11287|     Henry Garcia| 27|\n",
            "|     11203|        Luis Diaz| 17|\n",
            "|     11078|      Gina Martin| 17|\n",
            "|     11215|        Ana Perry| 17|\n",
            "|     11212|   Chloe Campbell| 17|\n",
            "|     11019|         Luke Lal| 17|\n",
            "|     11142|Eduardo Patterson| 17|\n",
            "|     11211| Samantha Russell| 17|\n",
            "|     11519|   Jerome Navarro| 16|\n",
            "|     11619|     Sierra Young| 16|\n",
            "|     11253|   José Hernandez| 16|\n",
            "+----------+-----------------+---+\n",
            "only showing top 20 rows\n",
            "\n"
          ]
        }
      ]
    },
    {
      "cell_type": "markdown",
      "source": [
        "Escreva uma query usando as tabelas Sales.SalesOrderHeader, Sales.SalesOrderDetail e Production.Product, de forma a obter a soma total de produtos (OrderQty) por ProductID e OrderDate."
      ],
      "metadata": {
        "id": "SOPdmAdD7ND3"
      }
    },
    {
      "cell_type": "code",
      "source": [
        "spark.sql(\"\"\" \n",
        "\n",
        "SELECT b1.ProductID as id, \n",
        "       b3.Name as name,\n",
        "       b2.OrderDate, \n",
        "       sum(b1.OrderQty) as sum_total\n",
        "FROM Sales_SalesOrderDetail AS b1\n",
        "INNER JOIN Sales_SalesOrderHeader as b2 ON b1.SalesOrderID  = b2.SalesOrderID \n",
        "INNER JOIN Production_Product AS b3 ON b1.ProductID = b3.ProductID \n",
        "GROUP BY b1.ProductID, b3.Name, b2.OrderDate\n",
        "ORDER BY b2.OrderDate\n",
        "\n",
        "\"\"\").show()"
      ],
      "metadata": {
        "colab": {
          "base_uri": "https://localhost:8080/"
        },
        "id": "G1XMuzrf7NPv",
        "outputId": "3e8bd591-7a15-4469-a149-f63d972edfd4"
      },
      "execution_count": null,
      "outputs": [
        {
          "output_type": "stream",
          "name": "stdout",
          "text": [
            "+---+--------------------+--------------------+---------+\n",
            "| id|                name|           OrderDate|sum_total|\n",
            "+---+--------------------+--------------------+---------+\n",
            "|726|LL Road Frame - R...|2011-05-31 00:00:...|      9.0|\n",
            "|732|ML Road Frame - R...|2011-05-31 00:00:...|     16.0|\n",
            "|777|Mountain-100 Blac...|2011-05-31 00:00:...|     23.0|\n",
            "|716|Long-Sleeve Logo ...|2011-05-31 00:00:...|     19.0|\n",
            "|710|Mountain Bike Soc...|2011-05-31 00:00:...|      5.0|\n",
            "|729|LL Road Frame - R...|2011-05-31 00:00:...|     16.0|\n",
            "|770|  Road-650 Black, 52|2011-05-31 00:00:...|     29.0|\n",
            "|715|Long-Sleeve Logo ...|2011-05-31 00:00:...|     49.0|\n",
            "|756|    Road-450 Red, 44|2011-05-31 00:00:...|     14.0|\n",
            "|707|Sport-100 Helmet,...|2011-05-31 00:00:...|     24.0|\n",
            "|767|  Road-650 Black, 62|2011-05-31 00:00:...|      1.0|\n",
            "|778|Mountain-100 Blac...|2011-05-31 00:00:...|     20.0|\n",
            "|722|LL Road Frame - B...|2011-05-31 00:00:...|      8.0|\n",
            "|764|    Road-650 Red, 52|2011-05-31 00:00:...|     14.0|\n",
            "|754|    Road-450 Red, 58|2011-05-31 00:00:...|     27.0|\n",
            "|725|LL Road Frame - R...|2011-05-31 00:00:...|     15.0|\n",
            "|749|    Road-150 Red, 62|2011-05-31 00:00:...|      4.0|\n",
            "|711|Sport-100 Helmet,...|2011-05-31 00:00:...|     33.0|\n",
            "|709|Mountain Bike Soc...|2011-05-31 00:00:...|     38.0|\n",
            "|738|LL Road Frame - B...|2011-05-31 00:00:...|     19.0|\n",
            "+---+--------------------+--------------------+---------+\n",
            "only showing top 20 rows\n",
            "\n"
          ]
        }
      ]
    },
    {
      "cell_type": "markdown",
      "source": [
        "Escreva uma query mostrando os campos SalesOrderID, OrderDate e TotalDue da tabela Sales.SalesOrderHeader. Obtenha apenas as linhas onde a ordem tenha sido feita durante o mês de setembro/2011 e o total devido esteja acima de 1.000. Ordene pelo total devido decrescente."
      ],
      "metadata": {
        "id": "yPYGu1zP9wTM"
      }
    },
    {
      "cell_type": "code",
      "source": [
        "spark.sql(\"\"\" \n",
        "SELECT *\n",
        "FROM(\n",
        "SELECT SalesOrderID, DATE(OrderDate) as OrderDate, CAST(REPLACE(TotalDue,',','.') AS INT) as TotalDue\n",
        "FROM Sales_SalesOrderHeader \n",
        "WHERE DATE(OrderDate) BETWEEN DATE('2011-09-01') AND DATE('2011-09-30')\n",
        "ORDER BY TotalDue DESC\n",
        ")\n",
        "WHERE TotalDue > 1000\n",
        "\n",
        "\"\"\").show()"
      ],
      "metadata": {
        "colab": {
          "base_uri": "https://localhost:8080/"
        },
        "id": "a345bC7690UE",
        "outputId": "c4d3cc08-053c-4848-b760-a7e135bed876"
      },
      "execution_count": null,
      "outputs": [
        {
          "output_type": "stream",
          "name": "stdout",
          "text": [
            "+------------+----------+--------+\n",
            "|SalesOrderID| OrderDate|TotalDue|\n",
            "+------------+----------+--------+\n",
            "|       44348|2011-09-07|    3953|\n",
            "|       44372|2011-09-09|    3953|\n",
            "|       44349|2011-09-07|    3953|\n",
            "|       44350|2011-09-07|    3953|\n",
            "|       44371|2011-09-09|    3953|\n",
            "|       44351|2011-09-07|    3953|\n",
            "|       44328|2011-09-02|    3953|\n",
            "|       44352|2011-09-07|    3953|\n",
            "|       44330|2011-09-02|    3953|\n",
            "|       44332|2011-09-03|    3953|\n",
            "|       44370|2011-09-09|    3953|\n",
            "|       44357|2011-09-07|    3953|\n",
            "|       44338|2011-09-04|    3953|\n",
            "|       44358|2011-09-07|    3953|\n",
            "|       44340|2011-09-04|    3953|\n",
            "|       44359|2011-09-08|    3953|\n",
            "|       44344|2011-09-06|    3953|\n",
            "|       44360|2011-09-08|    3953|\n",
            "|       44347|2011-09-06|    3953|\n",
            "|       44361|2011-09-08|    3953|\n",
            "+------------+----------+--------+\n",
            "only showing top 20 rows\n",
            "\n"
          ]
        }
      ]
    }
  ]
}